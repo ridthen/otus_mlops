{
 "cells": [
  {
   "cell_type": "code",
   "execution_count": 1,
   "id": "eb0f238e-3abc-4004-a12a-a8f9eab07115",
   "metadata": {},
   "outputs": [],
   "source": [
    "import sys\n",
    "sys.path.append(\n",
    "    \"/usr/lib/spark/python\"\n",
    ")\n",
    "from pyspark import SparkContext, SparkConf\n",
    "from pyspark.sql import SQLContext, SparkSession\n",
    "from pyspark.sql.functions import year, month, dayofmonth"
   ]
  },
  {
   "cell_type": "code",
   "execution_count": 15,
   "id": "9201c6d9-1fda-4e3c-939a-c01ff059dbcc",
   "metadata": {},
   "outputs": [],
   "source": [
    "spark = SparkSession.builder.appName('g1').getOrCreate()"
   ]
  },
  {
   "cell_type": "code",
   "execution_count": 16,
   "id": "5adebdd1-c7b0-4aa2-b6e7-425c358f2206",
   "metadata": {},
   "outputs": [],
   "source": [
    "hadoop_conf = spark.sparkContext._jsc.hadoopConfiguration()\n",
    "hadoop_conf.set(\"fs.s3.impl\", \"org.apache.hadoop.fs.s3a.S3AFileSystem\")\n",
    "hadoop_conf.set(\"fs.s3a.access.key\", \"YCAJEQ6hoybux3TZsjsbpURg4\")\n",
    "hadoop_conf.set(\"fs.s3a.secret.key\", \"YCPhC9mxk9Or5WIqcbyvUMpogn2UbWyHlRedILTb\")\n",
    "hadoop_conf.set(\"fs.s3a.endpoint\", \"storage.yandexcloud.net\")"
   ]
  },
  {
   "cell_type": "code",
   "execution_count": 17,
   "id": "8cbcbd2f-7497-4e53-9a38-cc60ef2feddc",
   "metadata": {},
   "outputs": [],
   "source": [
    "from pyspark.sql.types import StructType, StructField\n",
    "from pyspark.sql.types import DoubleType, IntegerType, StringType, TimestampType\n",
    "\n",
    "schema = StructType([\n",
    "    StructField(\"transaction_id\", IntegerType(), True),\n",
    "    StructField(\"tx_datetime\", TimestampType(), True),\n",
    "    StructField(\"customer_id\", IntegerType(), True),\n",
    "    StructField(\"terminal_id\", IntegerType(), True),\n",
    "    StructField(\"tx_amount\", DoubleType(), True),\n",
    "    StructField(\"tx_time_seconds\", IntegerType(), True),\n",
    "    StructField(\"tx_time_days\", IntegerType(), True),\n",
    "    StructField(\"tx_fraud\", IntegerType(), True),\n",
    "    StructField(\"tx_fraud_scenario\", IntegerType(), True)\n",
    "])"
   ]
  },
  {
   "cell_type": "code",
   "execution_count": 9,
   "id": "990b7651-973c-4cfb-8973-cfb5eda593bc",
   "metadata": {},
   "outputs": [],
   "source": [
    "df = spark.read.csv(\"s3://mlops-homework-rvsmsjim/\",\n",
    "                    header=False,\n",
    "                    pathGlobFilter=\"*.txt\",\n",
    "                    schema=schema, comment='#',\n",
    "                    mode='DROPMALFORMED')"
   ]
  },
  {
   "cell_type": "code",
   "execution_count": 10,
   "id": "2aa91373-f03c-4715-928c-108f424fc825",
   "metadata": {},
   "outputs": [
    {
     "name": "stdout",
     "output_type": "stream",
     "text": [
      "+--------------+-------------------+-----------+-----------+---------+---------------+------------+--------+-----------------+\n",
      "|transaction_id|        tx_datetime|customer_id|terminal_id|tx_amount|tx_time_seconds|tx_time_days|tx_fraud|tx_fraud_scenario|\n",
      "+--------------+-------------------+-----------+-----------+---------+---------------+------------+--------+-----------------+\n",
      "|             0|2019-08-22 06:51:03|          0|        711|    70.91|          24663|           0|       0|                0|\n",
      "|             1|2019-08-22 05:10:37|          0|          0|    90.55|          18637|           0|       0|                0|\n",
      "|             2|2019-08-22 19:05:33|          0|        753|    35.38|          68733|           0|       0|                0|\n",
      "|             3|2019-08-22 07:21:33|          0|          0|    80.41|          26493|           0|       0|                0|\n",
      "|             4|2019-08-22 09:06:17|          1|        981|   102.83|          32777|           0|       0|                0|\n",
      "|             5|2019-08-22 18:41:25|          3|        205|     34.2|          67285|           0|       0|                0|\n",
      "|             6|2019-08-22 03:12:21|          3|          0|     47.2|          11541|           0|       0|                0|\n",
      "|             7|2019-08-22 22:36:40|          6|        809|   139.39|          81400|           0|       0|                0|\n",
      "|             8|2019-08-22 17:23:29|          7|        184|    87.24|          62609|           0|       0|                0|\n",
      "|             9|2019-08-22 21:09:37|          8|        931|     61.7|          76177|           0|       0|                0|\n",
      "|            10|2019-08-22 11:32:42|         10|        663|    40.71|          41562|           0|       1|                2|\n",
      "|            11|2019-08-22 03:09:26|         10|        770|    63.91|          11366|           0|       0|                0|\n",
      "|            12|2019-08-22 15:47:54|         10|          0|    58.89|          56874|           0|       0|                0|\n",
      "|            13|2019-08-22 21:59:20|         10|        649|    89.24|          79160|           0|       0|                0|\n",
      "|            14|2019-08-22 20:55:13|         11|        380|     9.89|          75313|           0|       0|                0|\n",
      "|            15|2019-08-22 16:39:03|         11|        337|    83.36|          59943|           0|       0|                0|\n",
      "|            16|2019-08-22 23:15:07|         11|        973|    35.12|          83707|           0|       0|                0|\n",
      "|            17|2019-08-22 07:39:45|         12|          9|     74.0|          27585|           0|       0|                0|\n",
      "|            18|2019-08-22 05:35:39|         12|        745|   108.63|          20139|           0|       0|                0|\n",
      "|            19|2019-08-22 10:29:16|         12|          9|    84.45|          37756|           0|       0|                0|\n",
      "+--------------+-------------------+-----------+-----------+---------+---------------+------------+--------+-----------------+\n",
      "only showing top 20 rows\n",
      "\n"
     ]
    }
   ],
   "source": [
    "df.show()"
   ]
  },
  {
   "cell_type": "code",
   "execution_count": null,
   "id": "eab51b51-cd51-48a0-b43b-8314a650c27f",
   "metadata": {},
   "outputs": [],
   "source": [
    "%%time\n",
    "df.write.parquet(\"s3a://mlops-homework-rvsmsjim/dataset.parquet\", mode=\"overwrite\")"
   ]
  },
  {
   "cell_type": "code",
   "execution_count": 18,
   "id": "fd118b6b-f272-414f-846f-73d4d4bb0018",
   "metadata": {},
   "outputs": [],
   "source": [
    "df1 = spark.read.parquet(\"s3a://mlops-homework-rvsmsjim/dataset.parquet\")"
   ]
  },
  {
   "cell_type": "code",
   "execution_count": 6,
   "id": "8cd4bfdc-2681-48f6-8fe3-e167a361a3cc",
   "metadata": {},
   "outputs": [
    {
     "name": "stdout",
     "output_type": "stream",
     "text": [
      "CPU times: user 307 µs, sys: 4.01 ms, total: 4.31 ms\n",
      "Wall time: 21.3 s\n"
     ]
    },
    {
     "data": {
      "text/plain": [
       "1319707844"
      ]
     },
     "execution_count": 6,
     "metadata": {},
     "output_type": "execute_result"
    }
   ],
   "source": [
    "%%time\n",
    "df1.count()"
   ]
  },
  {
   "cell_type": "code",
   "execution_count": 32,
   "id": "8a60c1d3-ff6d-470a-a735-e5ba9d7314e4",
   "metadata": {},
   "outputs": [
    {
     "name": "stdout",
     "output_type": "stream",
     "text": [
      "+--------------+-----------+-----------+---------+---------------+------------+--------+-----------------+\n",
      "|transaction_id|customer_id|terminal_id|tx_amount|tx_time_seconds|tx_time_days|tx_fraud|tx_fraud_scenario|\n",
      "+--------------+-----------+-----------+---------+---------------+------------+--------+-----------------+\n",
      "|             0|          0|          0|        0|              0|           0|       0|                0|\n",
      "+--------------+-----------+-----------+---------+---------------+------------+--------+-----------------+\n",
      "\n"
     ]
    }
   ],
   "source": [
    "from pyspark.sql.functions import isnan, when, count, col\n",
    "df1.select([count(when(isnan(c), c)).alias(c) for c, t in df1.dtypes if t != \"timestamp\"]).show()"
   ]
  },
  {
   "cell_type": "code",
   "execution_count": 9,
   "id": "7b48d400-de3c-4c15-a896-98af06791628",
   "metadata": {},
   "outputs": [],
   "source": [
    "from pyspark.sql.functions import year, month, dayofmonth"
   ]
  },
  {
   "cell_type": "code",
   "execution_count": 7,
   "id": "7d2421c4-a8d5-4b7a-b6ce-654f65c66ebf",
   "metadata": {},
   "outputs": [
    {
     "data": {
      "text/plain": [
       "0"
      ]
     },
     "execution_count": 7,
     "metadata": {},
     "output_type": "execute_result"
    }
   ],
   "source": [
    "df1.where((year(df1.tx_datetime) < 2018) | (year(df1.tx_datetime) > 2024)).count()"
   ]
  },
  {
   "cell_type": "code",
   "execution_count": 8,
   "id": "f45d8e67-db4c-424c-87ec-97b0ae757bfb",
   "metadata": {},
   "outputs": [
    {
     "data": {
      "text/plain": [
       "0"
      ]
     },
     "execution_count": 8,
     "metadata": {},
     "output_type": "execute_result"
    }
   ],
   "source": [
    "df1.where((month(df1.tx_datetime) < 1) | (month(df1.tx_datetime) > 12)).count()"
   ]
  },
  {
   "cell_type": "code",
   "execution_count": 9,
   "id": "121e668b-5968-45c1-b301-6cb207f5fbc8",
   "metadata": {},
   "outputs": [
    {
     "data": {
      "text/plain": [
       "0"
      ]
     },
     "execution_count": 9,
     "metadata": {},
     "output_type": "execute_result"
    }
   ],
   "source": [
    "df1.where((dayofmonth(df1.tx_datetime) < 1) | (dayofmonth(df1.tx_datetime) > 31)).count()"
   ]
  },
  {
   "cell_type": "code",
   "execution_count": 10,
   "id": "57070895-1831-401a-be7e-d80c896af7b9",
   "metadata": {},
   "outputs": [
    {
     "data": {
      "text/plain": [
       "1"
      ]
     },
     "execution_count": 10,
     "metadata": {},
     "output_type": "execute_result"
    }
   ],
   "source": [
    "df1.where(df1.transaction_id <= 0).count()"
   ]
  },
  {
   "cell_type": "code",
   "execution_count": 11,
   "id": "10b939d9-ca22-4d4c-bc42-f767e080addc",
   "metadata": {},
   "outputs": [
    {
     "data": {
      "text/plain": [
       "10128"
      ]
     },
     "execution_count": 11,
     "metadata": {},
     "output_type": "execute_result"
    }
   ],
   "source": [
    "df1.where(df1.customer_id < 0).count()"
   ]
  },
  {
   "cell_type": "code",
   "execution_count": 12,
   "id": "84077882-ccdd-4b2c-bf89-847fcac843ae",
   "metadata": {},
   "outputs": [
    {
     "data": {
      "text/plain": [
       "0"
      ]
     },
     "execution_count": 12,
     "metadata": {},
     "output_type": "execute_result"
    }
   ],
   "source": [
    "df1.where(df1.terminal_id < 0).count()"
   ]
  },
  {
   "cell_type": "code",
   "execution_count": 13,
   "id": "3b251712-97f5-41c4-b1a3-59231be3f81c",
   "metadata": {},
   "outputs": [
    {
     "data": {
      "text/plain": [
       "24806"
      ]
     },
     "execution_count": 13,
     "metadata": {},
     "output_type": "execute_result"
    }
   ],
   "source": [
    "df1.where(df1.tx_amount <= 0).count()"
   ]
  },
  {
   "cell_type": "code",
   "execution_count": 14,
   "id": "72117cc0-494f-4bd1-85cc-337dc4046372",
   "metadata": {},
   "outputs": [
    {
     "data": {
      "text/plain": [
       "3"
      ]
     },
     "execution_count": 14,
     "metadata": {},
     "output_type": "execute_result"
    }
   ],
   "source": [
    "df1.where(df1.tx_time_seconds <= 0).count()"
   ]
  },
  {
   "cell_type": "code",
   "execution_count": 15,
   "id": "43cd6797-4d2b-4098-810c-868259e7e5e3",
   "metadata": {},
   "outputs": [
    {
     "data": {
      "text/plain": [
       "[Row(tx_fraud=1), Row(tx_fraud=0)]"
      ]
     },
     "execution_count": 15,
     "metadata": {},
     "output_type": "execute_result"
    }
   ],
   "source": [
    "df1.select('tx_fraud').distinct().collect()"
   ]
  },
  {
   "cell_type": "code",
   "execution_count": 16,
   "id": "9734dbb8-055e-4cc1-a811-c60a6bc712c0",
   "metadata": {},
   "outputs": [
    {
     "data": {
      "text/plain": [
       "[Row(tx_fraud_scenario=1),\n",
       " Row(tx_fraud_scenario=3),\n",
       " Row(tx_fraud_scenario=2),\n",
       " Row(tx_fraud_scenario=0)]"
      ]
     },
     "execution_count": 16,
     "metadata": {},
     "output_type": "execute_result"
    }
   ],
   "source": [
    "df1.select('tx_fraud_scenario').distinct().collect()"
   ]
  },
  {
   "cell_type": "code",
   "execution_count": 7,
   "id": "707adbca-2d65-41ef-a00f-03c6f308b508",
   "metadata": {},
   "outputs": [
    {
     "data": {
      "text/plain": [
       "1319706183"
      ]
     },
     "execution_count": 7,
     "metadata": {},
     "output_type": "execute_result"
    }
   ],
   "source": [
    "df1.select('transaction_id').distinct().count()"
   ]
  },
  {
   "cell_type": "code",
   "execution_count": 20,
   "id": "84973960-fb21-471c-8166-9a56b923ebea",
   "metadata": {},
   "outputs": [
    {
     "data": {
      "text/plain": [
       "1262672732"
      ]
     },
     "execution_count": 20,
     "metadata": {},
     "output_type": "execute_result"
    }
   ],
   "source": [
    "df2 = (\n",
    "df1\n",
    "    .where((year(df1.tx_datetime) >= 2018) | (year(df1.tx_datetime) <= 2024))\n",
    "    .where((month(df1.tx_datetime) >= 1) | (month(df1.tx_datetime) <= 12))\n",
    "    .where((dayofmonth(df1.tx_datetime) >= 1) | (dayofmonth(df1.tx_datetime) <= 31))\n",
    "    .where(df1.customer_id >= 0)\n",
    "    .where(df1.terminal_id > 0)\n",
    "    .where(df1.tx_amount >= 0)\n",
    "    .where(df1.tx_time_seconds >= 0)\n",
    "    .where((df1.tx_fraud == 0) | (df1.tx_fraud == 1))\n",
    "    .where((df1.tx_fraud_scenario == 0) | (df1.tx_fraud_scenario == 1) | (df1.tx_fraud_scenario == 2) | (df1.tx_fraud_scenario == 3))\n",
    "    .dropDuplicates(['transaction_id'])\n",
    "    .count()\n",
    ")"
   ]
  },
  {
   "cell_type": "code",
   "execution_count": 14,
   "id": "45981a61-ca66-49c9-abdb-d3ef59790507",
   "metadata": {},
   "outputs": [],
   "source": [
    "spark.stop()"
   ]
  }
 ],
 "metadata": {
  "kernelspec": {
   "display_name": "Python 3",
   "language": "python",
   "name": "python3"
  },
  "language_info": {
   "codemirror_mode": {
    "name": "ipython",
    "version": 3
   },
   "file_extension": ".py",
   "mimetype": "text/x-python",
   "name": "python",
   "nbconvert_exporter": "python",
   "pygments_lexer": "ipython3",
   "version": "3.8.10"
  }
 },
 "nbformat": 4,
 "nbformat_minor": 5
}
