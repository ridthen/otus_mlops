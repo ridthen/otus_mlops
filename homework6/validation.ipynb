{
 "cells": [
  {
   "cell_type": "code",
   "execution_count": 1,
   "id": "839c3830-9deb-49ce-a7b5-963c4c85a7a0",
   "metadata": {},
   "outputs": [],
   "source": [
    "import os\n",
    "import sys\n",
    "import logging\n",
    "\n",
    "sys.path.append(\n",
    "    \"/usr/lib/spark/python\"\n",
    ")\n",
    "\n",
    "os.environ['PYSPARK_PYTHON'] = sys.executable\n",
    "os.environ['PYSPARK_DRIVER_PYTHON'] = sys.executable\n",
    "\n",
    "import pyspark\n",
    "from pyspark import SparkContext, SparkConf\n",
    "from pyspark.sql import SQLContext, SparkSession\n",
    "import pyspark.sql.functions as f\n",
    "import re\n",
    "from pyspark.sql.functions import col, asc, desc, isnan, when, trim\n",
    "\n",
    "from pyspark.sql.types import StructType, StructField\n",
    "from pyspark.sql.types import FloatType, DoubleType, IntegerType, StringType, TimestampType\n",
    "\n",
    "from pyspark.sql.functions import udf\n",
    "from pyspark.ml.feature import VectorAssembler\n",
    "from pyspark.ml.feature import MinMaxScaler\n",
    "from pyspark.ml.feature import StringIndexer\n",
    "from pyspark.ml.feature import OneHotEncoder\n",
    "from pyspark.ml.classification import LogisticRegression\n",
    "from pyspark.ml.pipeline import Pipeline\n",
    "\n",
    "import mlflow\n",
    "from mlflow.tracking import MlflowClient\n",
    "from datetime import datetime\n",
    "\n",
    "from scipy.stats  import norm, ttest_ind\n",
    "from scipy import stats\n",
    "import numpy as np\n",
    "\n",
    "from pyspark.mllib.evaluation import BinaryClassificationMetrics, MulticlassMetrics\n",
    "\n",
    "from pyspark.ml.tuning import CrossValidator, CrossValidatorModel, TrainValidationSplit, ParamGridBuilder\n",
    "from pyspark.ml.evaluation import BinaryClassificationEvaluator\n",
    "\n",
    "import matplotlib.pyplot as plt\n",
    "import seaborn as sns\n",
    "import pandas as pd"
   ]
  },
  {
   "cell_type": "code",
   "execution_count": null,
   "id": "59acc883-2ef2-4700-a955-71a8bd59868f",
   "metadata": {},
   "outputs": [],
   "source": [
    "spark = (\n",
    "    SparkSession.builder.appName('validate')\n",
    "    .config('spark.jars.packages', 'org.apache.hadoop:hadoop-aws:3.3.4')\n",
    "    .config(\"spark.executor.memory\", \"128g\")\n",
    "    .config(\"spark.driver.memory\", \"128g\")\n",
    "    .config(\"spark.executor.cores\", \"40\")\n",
    "    .config(\"spark.executor.instances\", \"48\")\n",
    "    .config(\"spark.default.parallelism\", \"48\")\n",
    "    .getOrCreate()\n",
    ")\n",
    "hadoop_conf = spark.sparkContext._jsc.hadoopConfiguration()\n",
    "hadoop_conf.set(\"fs.s3.impl\", \"org.apache.hadoop.fs.s3a.S3AFileSystem\")\n",
    "hadoop_conf.set(\"fs.s3a.access.key\", \"key\")\n",
    "hadoop_conf.set(\"fs.s3a.secret.key\", \"secret\")\n",
    "hadoop_conf.set(\"fs.s3a.endpoint\", \"storage.yandexcloud.net\")\n",
    "hadoop_conf.set('spark.jars.packages', 'org.apache.hadoop:hadoop-aws:3.3.4')"
   ]
  },
  {
   "cell_type": "code",
   "execution_count": 3,
   "id": "7b65f9db-5e7b-4e4d-8dac-0e37328748fd",
   "metadata": {},
   "outputs": [],
   "source": [
    "def evaluateModel(predictions):\n",
    "    predictionAndTarget = predictions.select([predictions[\"tx_fraud\"].cast(DoubleType()), predictions[\"prediction\"].cast(DoubleType()).alias('label')])\n",
    "    metrics_binary = BinaryClassificationMetrics(predictionAndTarget.rdd.map(tuple))\n",
    "    metrics_multi = MulticlassMetrics(predictionAndTarget.rdd.map(tuple))\n",
    "    return {'acc': metrics_multi.accuracy,\n",
    "            'f1': metrics_multi.fMeasure(1.0),\n",
    "            'precision': metrics_multi.precision(1.0),\n",
    "            'recall': metrics_multi.recall(1.0),\n",
    "            'auc': metrics_binary.areaUnderROC,\n",
    "            'arp': metrics_binary.areaUnderPR\n",
    "           }"
   ]
  },
  {
   "cell_type": "code",
   "execution_count": 4,
   "id": "e2ea128c-d227-4fce-8a6f-e05651ddeee5",
   "metadata": {},
   "outputs": [],
   "source": [
    "def getScores(predictions):\n",
    "    bootstrap_iterations = 100\n",
    "    predictionAndTarget = predictions.select([predictions[\"tx_fraud\"].cast(DoubleType()), predictions[\"prediction\"].cast(DoubleType()).alias('label')])\n",
    "    scores = []\n",
    "    for i in range(bootstrap_iterations):\n",
    "        sample = predictionAndTarget.sample(True, 0.01)\n",
    "        metrics_binary = BinaryClassificationMetrics(sample.rdd.map(tuple))\n",
    "        scores.append(metrics_binary.areaUnderPR)\n",
    "    return scores"
   ]
  },
  {
   "cell_type": "code",
   "execution_count": 5,
   "id": "18fe3f66-3b1c-4bbe-a21e-9c9e47fd7cd8",
   "metadata": {},
   "outputs": [],
   "source": [
    "def makeFig(scores, scores_candidate):\n",
    "    # Create a figure and axis for the plot\n",
    "    fig, axes = plt.subplots(1, 1, figsize=(8, 5))\n",
    "    \n",
    "    # Plot histograms for each dataset\n",
    "    sns.histplot(data=pd.DataFrame(scores, columns=['APR']), x=\"APR\", ax=axes, color='blue', label=calc_confidence_interval(scores), alpha=0.3)\n",
    "    sns.histplot(data=pd.DataFrame(scores_candidate, columns=['APR']), x=\"APR\", ax=axes, color='orange', label=calc_confidence_interval(scores_candidate), alpha=0.3)\n",
    "    \n",
    "    # Set plot labels and titles\n",
    "    axes.set_xlabel(\"Area under Precision-Recall\")\n",
    "    axes.set_ylabel('Count')\n",
    "    axes.set_title(f'{\"Area under Precision-Recall\"}')\n",
    "    \n",
    "    # Add legend\n",
    "    axes.legend()\n",
    "    \n",
    "    # Adjust the layout\n",
    "    plt.tight_layout()\n",
    "    \n",
    "    # Show the plot\n",
    "    plt.savefig(\"plots/apr.png\")\n",
    "    return fig"
   ]
  },
  {
   "cell_type": "code",
   "execution_count": 6,
   "id": "b1a4cc89-40ad-47ec-857d-f8b3d602d80b",
   "metadata": {},
   "outputs": [],
   "source": [
    "def isValid(scores, scores_candidate, alpha = 0.01):\n",
    "    pvalue = ttest_ind(scores, scores_candidate).pvalue\n",
    "    \n",
    "    print(f\"p-value (APR): {pvalue:g}\\t-\\t\", end='')\n",
    "    if pvalue < alpha:\n",
    "        print(\"Reject null hypothesis.\")\n",
    "    else:\n",
    "        print(\"Accept null hypothesis.\")\n",
    "    return pvalue < alpha"
   ]
  },
  {
   "cell_type": "code",
   "execution_count": 7,
   "id": "ced3034d-6fbb-4f2c-b763-5bddde584ee9",
   "metadata": {},
   "outputs": [],
   "source": [
    "def calc_confidence_interval(scores):\n",
    "    scores_arr = np.asarray(scores)\n",
    "    mean = scores_arr.mean()\n",
    "    std_error = scores_arr.std() / np.sqrt(len(scores_arr))\n",
    "    confidence_level = 0.95\n",
    "    \n",
    "    confidence_interval = stats.t.interval(confidence_level, len(scores)-1, mean, std_error)\n",
    "    return (f'Confidence interval for APR: {confidence_interval[0]:.4f} <- {scores_arr.mean():.4f} -> {confidence_interval[1]:.4f}')"
   ]
  },
  {
   "cell_type": "code",
   "execution_count": 10,
   "id": "8c165f3a-edad-4df3-82b6-9b7112f2a01f",
   "metadata": {},
   "outputs": [],
   "source": [
    "df = spark.read.parquet(\"s3a://mlops-homework-rvsmsjima/dataset-cleaned.parquet\")"
   ]
  },
  {
   "cell_type": "code",
   "execution_count": null,
   "id": "d2e6033a-5acb-43da-a77b-52a35a77bddf",
   "metadata": {},
   "outputs": [
    {
     "name": "stderr",
     "output_type": "stream",
     "text": [
      "[Stage 1519:===================================================>(797 + 3) / 800]\r"
     ]
    }
   ],
   "source": [
    "%%time\n",
    "# возьмем только 1% данных для сокращения времени отладки и обучения\n",
    "#subsets = df.randomSplit([0.5, 0.95])\n",
    "subset = df.sample(0.01)\n",
    "\n",
    "df_1 = subset.filter(subset[\"tx_fraud\"] == 1)\n",
    "df_0 = subset.filter(subset[\"tx_fraud\"] == 0)\n",
    "\n",
    "df_1count = df_1.count()\n",
    "df_0count = df_0.count()\n",
    "\n",
    "df1_oversampled = df_1 \\\n",
    ".withColumn(\"dummy\",\n",
    "        f.explode(\n",
    "            f.array(*[f.lit(x)\n",
    "                      for x in range(int(df_0count / df_1count))]))) \\\n",
    ".drop(\"dummy\")\n",
    "\n",
    "data = df_0.unionAll(df1_oversampled)\n",
    "\n",
    "data_indexer = StringIndexer(inputCols=[\"tx_fraud_scenario\"], outputCols=[\"tx_fraud_scenario_index\"])\n",
    "data_encoder = OneHotEncoder(inputCols=[\"tx_fraud_scenario_index\"], outputCols=[\"tx_fraud_scenario_encoded\"])\n",
    "\n",
    "numeric_cols = [\"tx_amount\", \"tx_time_seconds\", \"tx_time_days\"]\n",
    "cat_cols = [\"tx_fraud_scenario_encoded\"]\n",
    "featureColumns = numeric_cols + cat_cols\n",
    "\n",
    "assembler = VectorAssembler() \\\n",
    ".setInputCols(featureColumns) \\\n",
    ".setOutputCol(\"features\") \\\n",
    ".setHandleInvalid(\"skip\")\n",
    "\n",
    "scaler = MinMaxScaler() \\\n",
    ".setInputCol(\"features\") \\\n",
    ".setOutputCol(\"scaledFeatures\")\n",
    "\n",
    "scaled = Pipeline(stages=[data_indexer,\n",
    "                          data_encoder,\n",
    "                          assembler,\n",
    "                          scaler,\n",
    "                         ]).fit(data).transform(data)\n",
    "\n",
    "tt = scaled.randomSplit([0.8, 0.2])\n",
    "training = tt[0]\n",
    "test = tt[1]"
   ]
  },
  {
   "cell_type": "code",
   "execution_count": null,
   "id": "6df89932-eb50-4718-b918-01e7a48f0435",
   "metadata": {},
   "outputs": [],
   "source": [
    "training.write.parquet(\"s3a://mlops-homework-rvsmsjima/training.parquet\", mode=\"overwrite\")\n",
    "test.write.parquet(\"s3a://mlops-homework-rvsmsjima/test.parquet\", mode=\"overwrite\")"
   ]
  },
  {
   "cell_type": "code",
   "execution_count": 9,
   "id": "76ec7eeb-1247-4c81-8d48-c04c8f55bea6",
   "metadata": {},
   "outputs": [
    {
     "name": "stdout",
     "output_type": "stream",
     "text": [
      "CPU times: user 1.13 ms, sys: 4.36 ms, total: 5.49 ms\n",
      "Wall time: 945 ms\n"
     ]
    },
    {
     "name": "stderr",
     "output_type": "stream",
     "text": [
      "24/06/23 20:56:15 WARN CacheManager: Asked to cache already cached data.\n"
     ]
    }
   ],
   "source": [
    "%%time\n",
    "training = spark.read.parquet(\"s3a://mlops-homework-rvsmsjima/training.parquet\").cache()\n",
    "test = spark.read.parquet(\"s3a://mlops-homework-rvsmsjima/test.parquet\").cache()"
   ]
  },
  {
   "cell_type": "code",
   "execution_count": 10,
   "id": "336a49b7-7cd7-4f0c-854a-b74baa9211e0",
   "metadata": {},
   "outputs": [],
   "source": [
    "os.environ[\"AWS_ACCESS_KEY_ID\"] = \"key\"\n",
    "os.environ[\"AWS_SECRET_ACCESS_KEY\"] = \"secret\"\n",
    "os.environ[\"MLFLOW_S3_ENDPOINT_URL\"] = \"https://storage.yandexcloud.net\"\n",
    "os.environ[\"AWS_DEFAULT_REGION\"] = \"ru-central1\"\n",
    "\n",
    "mlflow.set_tracking_uri(\"http://mlflow.fraudnames.ru:5000\")"
   ]
  },
  {
   "cell_type": "code",
   "execution_count": 11,
   "id": "443a24f2-6bf2-44a2-8189-51d553203a85",
   "metadata": {},
   "outputs": [],
   "source": [
    "experiment = mlflow.set_experiment(\"baseline\")\n",
    "experiment_id = experiment.experiment_id\n",
    "\n",
    "run_name = 'baseline model for data subset ' + str(datetime.now())"
   ]
  },
  {
   "cell_type": "code",
   "execution_count": 13,
   "id": "4c2e1f9d-2322-4fe3-9c7f-043b57615796",
   "metadata": {},
   "outputs": [
    {
     "name": "stderr",
     "output_type": "stream",
     "text": [
      "24/06/23 21:02:12 WARN InstanceBuilder: Failed to load implementation from:dev.ludovic.netlib.blas.VectorBLAS\n",
      "/home/apopov/.local/pipx/venvs/jupyterlab/lib/python3.11/site-packages/pyspark/sql/context.py:158: FutureWarning: Deprecated in 3.0.0. Use SparkSession.builder.getOrCreate() instead.\n",
      "  warnings.warn(\n",
      "2024/06/23 21:06:31 WARNING mlflow.utils.environment: Encountered an unexpected error while inferring pip requirements (model URI: /tmp/tmp89x86mzf, flavor: spark). Fall back to return ['pyspark==3.5.1']. Set logging level to DEBUG to see the full traceback. \n",
      "/home/apopov/.local/pipx/shared/lib/python3.11/site-packages/_distutils_hack/__init__.py:11: UserWarning: Distutils was imported before Setuptools, but importing Setuptools also replaces the `distutils` module in `sys.modules`. This may lead to undesirable behaviors or errors. To avoid these issues, avoid using distutils directly, ensure that setuptools is installed in the traditional way (e.g. not an editable install), and/or make sure that setuptools is always imported before distutils.\n",
      "  warnings.warn(\n",
      "/home/apopov/.local/pipx/shared/lib/python3.11/site-packages/_distutils_hack/__init__.py:26: UserWarning: Setuptools is replacing distutils.\n",
      "  warnings.warn(\"Setuptools is replacing distutils.\")\n"
     ]
    },
    {
     "name": "stdout",
     "output_type": "stream",
     "text": [
      "CPU times: user 2.89 s, sys: 327 ms, total: 3.22 s\n",
      "Wall time: 8min 49s\n"
     ]
    }
   ],
   "source": [
    "%%time\n",
    "# baseline model\n",
    "with mlflow.start_run(run_name=run_name, experiment_id=experiment_id):\n",
    "    setRegParam = 0.2\n",
    "    setElasticNetParam = 0.8\n",
    "    \n",
    "    lr = (\n",
    "    LogisticRegression()\n",
    "        .setMaxIter(1)\n",
    "        .setRegParam(setRegParam)\n",
    "        .setElasticNetParam(setElasticNetParam)\n",
    "        .setFamily(\"binomial\")\n",
    "        .setFeaturesCol(\"scaledFeatures\")\n",
    "        .setLabelCol(\"tx_fraud\")\n",
    "    )\n",
    "    lrModel = lr.fit(training)\n",
    "    baseline_run_id = mlflow.active_run().info.run_id\n",
    "    mlflow.log_param('optimal_regParam', setRegParam)\n",
    "    mlflow.log_param('optimal_elasticNetParam', setElasticNetParam)\n",
    "    trainingSummary = lrModel.summary\n",
    "    accuracy_trainingSummary = trainingSummary.accuracy\n",
    "    areaUnderROC_trainingSummary = trainingSummary.areaUnderROC\n",
    "    mlflow.log_metric(\"accuracy_trainingSummary\", accuracy_trainingSummary)\n",
    "    mlflow.log_metric(\"areaUnderROC_trainingSummary\", areaUnderROC_trainingSummary)\n",
    "    predictions_baseline = lrModel.transform(test)\n",
    "    metrics_baseline = evaluateModel(predictions_baseline)\n",
    "    for metric in metrics_baseline.keys():\n",
    "        mlflow.log_metric(metric, metrics_baseline[metric])\n",
    "    \n",
    "    mlflow.spark.log_model(lrModel, \"lrModel\")\n",
    "mlflow.end_run()"
   ]
  },
  {
   "cell_type": "code",
   "execution_count": 25,
   "id": "cf569576-9356-4f13-95dc-6a2323695c01",
   "metadata": {},
   "outputs": [],
   "source": [
    "experiment = mlflow.set_experiment(\"staging\")\n",
    "experiment_id = experiment.experiment_id\n",
    "run_name = 'staging model for data subset ' + str(datetime.now())"
   ]
  },
  {
   "cell_type": "code",
   "execution_count": 26,
   "id": "8fe50a79-6a4c-4dc1-a516-70ec9a4a732f",
   "metadata": {},
   "outputs": [
    {
     "name": "stderr",
     "output_type": "stream",
     "text": [
      "/home/apopov/.local/pipx/venvs/jupyterlab/lib/python3.11/site-packages/pyspark/sql/context.py:158: FutureWarning: Deprecated in 3.0.0. Use SparkSession.builder.getOrCreate() instead.\n",
      "  warnings.warn(\n",
      "2024/06/23 21:23:44 WARNING mlflow.utils.environment: Encountered an unexpected error while inferring pip requirements (model URI: /tmp/tmp2nlkn4a9, flavor: spark). Fall back to return ['pyspark==3.5.1']. Set logging level to DEBUG to see the full traceback. \n",
      "                                                                                \r"
     ]
    },
    {
     "name": "stdout",
     "output_type": "stream",
     "text": [
      "p-value (APR): 5.33119e-231\t-\tReject null hypothesis.\n",
      "CPU times: user 3.27 s, sys: 1.15 s, total: 4.42 s\n",
      "Wall time: 5min 8s\n"
     ]
    },
    {
     "data": {
      "image/png": "[encoded data removed]",
      "text/plain": [
       "<Figure size 800x500 with 1 Axes>"
      ]
     },
     "metadata": {},
     "output_type": "display_data"
    }
   ],
   "source": [
    "%%time\n",
    "# staging model\n",
    "with mlflow.start_run(run_name=run_name, experiment_id=experiment_id):\n",
    "    staging_run_id = mlflow.active_run().info.run_id\n",
    "    evaluator = BinaryClassificationEvaluator(labelCol=\"tx_fraud\", metricName=\"areaUnderPR\")\n",
    "    grid = (\n",
    "    ParamGridBuilder()\n",
    "        .addGrid(lr.regParam, [0.05, 0.1, 0.5])\n",
    "        .addGrid(lr.fitIntercept, [False, True])\n",
    "        .addGrid(lr.elasticNetParam, [0.0, 0.5, 1.0])\n",
    "        .build()\n",
    "    )\n",
    "\n",
    "    tvs = (\n",
    "    TrainValidationSplit()\n",
    "        .setEstimator(lr)\n",
    "        .setEvaluator(evaluator)\n",
    "        .setEstimatorParamMaps(grid)\n",
    "        .setCollectSubModels(True)\n",
    "        .setParallelism(2)\n",
    "    )\n",
    "    \n",
    "    tvsModel = tvs.fit(training)\n",
    "    param_map = tvsModel.bestModel.extractParamMap()\n",
    "    for param in param_map:\n",
    "        mlflow.log_param(param.name, param_map[param])\n",
    "    \n",
    "    predictions_staging = tvsModel.transform(test)\n",
    "    metrics_staging = evaluateModel(predictions_staging)\n",
    "    for metric in metrics_staging.keys():\n",
    "        mlflow.log_metric(metric, metrics_staging[metric])\n",
    "\n",
    "    mlflow.spark.log_model(tvsModel, \"tvsModel\")\n",
    "\n",
    "    scores = getScores(predictions_baseline)\n",
    "    scores_candidate = getScores(predictions_staging)\n",
    "\n",
    "    mlflow.log_figure(makeFig(scores, scores_candidate), \"/tmp/apr.png\")\n",
    "    mlflow.log_metric(\"isValid\", isValid(scores, scores_candidate))"
   ]
  },
  {
   "cell_type": "code",
   "execution_count": 27,
   "id": "6d50f288-d552-4c48-be79-12e371708ee1",
   "metadata": {},
   "outputs": [
    {
     "name": "stdout",
     "output_type": "stream",
     "text": [
      "p-value (APR): 5.33119e-231\t-\tReject null hypothesis.\n"
     ]
    },
    {
     "name": "stderr",
     "output_type": "stream",
     "text": [
      "Successfully registered model 'bestModel'.\n",
      "2024/06/23 21:34:45 INFO mlflow.store.model_registry.abstract_store: Waiting up to 300 seconds for model version to finish creation. Model name: bestModel, version 1\n"
     ]
    },
    {
     "name": "stdout",
     "output_type": "stream",
     "text": [
      "<ModelVersion: aliases=[], creation_timestamp=1719167685481, current_stage='None', description='', last_updated_timestamp=1719167685481, name='bestModel', run_id='f2c798cadee743d69de14150ea8b2204', run_link='', source='s3://mlops-mlflow-artifacts/2/f2c798cadee743d69de14150ea8b2204/artifacts/tvsModel', status='READY', status_message='', tags={}, user_id='', version='1'>\n"
     ]
    },
    {
     "name": "stderr",
     "output_type": "stream",
     "text": [
      "Created version '1' of model 'bestModel'.\n"
     ]
    }
   ],
   "source": [
    "if (isValid(scores, scores_candidate)):\n",
    "    result = mlflow.register_model('runs:/'+staging_run_id+'/tvsModel', \"bestModel\")\n",
    "    print(result)"
   ]
  },
  {
   "cell_type": "code",
   "execution_count": 29,
   "id": "9443ee45-9989-407a-9284-911eacbffa2e",
   "metadata": {},
   "outputs": [
    {
     "name": "stderr",
     "output_type": "stream",
     "text": [
      "/tmp/ipykernel_2180864/2499481128.py:2: FutureWarning: ``mlflow.tracking.client.MlflowClient.transition_model_version_stage`` is deprecated since 2.9.0. Model registry stages will be removed in a future major release. To learn more about the deprecation of model registry stages, see our migration guide here: https://mlflow.org/docs/latest/model-registry.html#migrating-from-stages\n",
      "  client.transition_model_version_stage(\n"
     ]
    },
    {
     "data": {
      "text/plain": [
       "<ModelVersion: aliases=[], creation_timestamp=1719167685481, current_stage='Production', description='', last_updated_timestamp=1719167951802, name='bestModel', run_id='f2c798cadee743d69de14150ea8b2204', run_link='', source='s3://mlops-mlflow-artifacts/2/f2c798cadee743d69de14150ea8b2204/artifacts/tvsModel', status='READY', status_message='', tags={}, user_id='', version='1'>"
      ]
     },
     "execution_count": 29,
     "metadata": {},
     "output_type": "execute_result"
    }
   ],
   "source": [
    "client = MlflowClient()\n",
    "client.transition_model_version_stage(\n",
    "    name=\"bestModel\", version=result.version, stage=\"Production\"\n",
    ")"
   ]
  },
  {
   "cell_type": "code",
   "execution_count": 9,
   "id": "f027cbb5-9765-45ce-8f59-57e0af9a5fb5",
   "metadata": {},
   "outputs": [],
   "source": [
    "spark.stop()"
   ]
  },
  {
   "cell_type": "code",
   "execution_count": null,
   "id": "62fced8c-5c1d-49a2-be4f-2aee0b1680a2",
   "metadata": {},
   "outputs": [],
   "source": []
  }
 ],
 "metadata": {
  "kernelspec": {
   "display_name": "Python 3 (ipykernel)",
   "language": "python",
   "name": "python3"
  },
  "language_info": {
   "codemirror_mode": {
    "name": "ipython",
    "version": 3
   },
   "file_extension": ".py",
   "mimetype": "text/x-python",
   "name": "python",
   "nbconvert_exporter": "python",
   "pygments_lexer": "ipython3",
   "version": "3.11.2"
  }
 },
 "nbformat": 4,
 "nbformat_minor": 5
}
